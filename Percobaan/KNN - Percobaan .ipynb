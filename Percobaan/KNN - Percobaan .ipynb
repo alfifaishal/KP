{
  "nbformat": 4,
  "nbformat_minor": 0,
  "metadata": {
    "colab": {
      "provenance": [],
      "gpuType": "T4"
    },
    "kernelspec": {
      "name": "python3",
      "display_name": "Python 3"
    },
    "language_info": {
      "name": "python"
    },
    "accelerator": "GPU"
  },
  "cells": [
    {
      "cell_type": "markdown",
      "source": [
        "### 1. Import Library"
      ],
      "metadata": {
        "id": "HFXAOCv4zSps"
      }
    },
    {
      "cell_type": "code",
      "execution_count": null,
      "metadata": {
        "id": "18q0X-s6weZe"
      },
      "outputs": [],
      "source": [
        "import pandas as pd\n",
        "from sklearn.model_selection import train_test_split\n",
        "from sklearn.preprocessing import StandardScaler\n",
        "from sklearn.neighbors import KNeighborsClassifier\n",
        "from sklearn.metrics import classification_report, confusion_matrix, accuracy_score, precision_score, recall_score, f1_score\n",
        "from sklearn.model_selection import GridSearchCV\n",
        "import matplotlib.pyplot as plt\n",
        "import seaborn as sns"
      ]
    },
    {
      "cell_type": "markdown",
      "source": [
        "### 2. Load Dataset"
      ],
      "metadata": {
        "id": "ROLv7MGTzbu5"
      }
    },
    {
      "cell_type": "code",
      "source": [
        "# Memuat dataset dengan delimiter ';'\n",
        "df = pd.read_csv('/content/hipertensi2label.csv', delimiter=';')\n"
      ],
      "metadata": {
        "id": "3WmQHlBBy-Xk"
      },
      "execution_count": null,
      "outputs": []
    },
    {
      "cell_type": "code",
      "source": [
        "print(df.head())  # Melihat 5 data teratas\n",
        "print(df.info())  # Melihat informasi dasar tentang data\n",
        "print(df.describe())  # Melihat statistik dasar dari data"
      ],
      "metadata": {
        "colab": {
          "base_uri": "https://localhost:8080/"
        },
        "id": "C1LhJ31yzAR3",
        "outputId": "080f50a7-69bd-4dc5-9b7b-50a94d847ae8"
      },
      "execution_count": null,
      "outputs": [
        {
          "output_type": "stream",
          "name": "stdout",
          "text": [
            "   id  sistolik  diastolik  jk  umur  diabetes  diagnosis\n",
            "0   1       120         80   1    61         0          2\n",
            "1   2       110         80   1    61         0          2\n",
            "2   3       170         80   1    74         0          1\n",
            "3   4       120         80   1    58         0          2\n",
            "4   5       140         80   1    63         0          1\n",
            "<class 'pandas.core.frame.DataFrame'>\n",
            "RangeIndex: 166 entries, 0 to 165\n",
            "Data columns (total 7 columns):\n",
            " #   Column     Non-Null Count  Dtype\n",
            "---  ------     --------------  -----\n",
            " 0   id         166 non-null    int64\n",
            " 1   sistolik   166 non-null    int64\n",
            " 2   diastolik  166 non-null    int64\n",
            " 3   jk         166 non-null    int64\n",
            " 4   umur       166 non-null    int64\n",
            " 5   diabetes   166 non-null    int64\n",
            " 6   diagnosis  166 non-null    int64\n",
            "dtypes: int64(7)\n",
            "memory usage: 9.2 KB\n",
            "None\n",
            "               id    sistolik   diastolik          jk        umur    diabetes  \\\n",
            "count  166.000000  166.000000  166.000000  166.000000  166.000000  166.000000   \n",
            "mean    83.500000  128.530120   82.746988    0.807229   59.307229    0.228916   \n",
            "std     48.064193   16.407195    6.103836    0.395668   11.548404    0.421406   \n",
            "min      1.000000  100.000000   60.000000    0.000000   21.000000    0.000000   \n",
            "25%     42.250000  120.000000   80.000000    1.000000   51.000000    0.000000   \n",
            "50%     83.500000  130.000000   80.000000    1.000000   60.000000    0.000000   \n",
            "75%    124.750000  140.000000   90.000000    1.000000   66.000000    0.000000   \n",
            "max    166.000000  180.000000  100.000000    1.000000   88.000000    1.000000   \n",
            "\n",
            "        diagnosis  \n",
            "count  166.000000  \n",
            "mean     1.548193  \n",
            "std      0.499178  \n",
            "min      1.000000  \n",
            "25%      1.000000  \n",
            "50%      2.000000  \n",
            "75%      2.000000  \n",
            "max      2.000000  \n"
          ]
        }
      ]
    },
    {
      "cell_type": "markdown",
      "source": [
        "### 3. Preprocessing"
      ],
      "metadata": {
        "id": "bQNMFytmzq4w"
      }
    },
    {
      "cell_type": "code",
      "source": [
        "print(df.columns)  # Melihat semua kolom dalam dataset\n"
      ],
      "metadata": {
        "colab": {
          "base_uri": "https://localhost:8080/"
        },
        "id": "azHifJAW1-I7",
        "outputId": "9db1b4d0-c279-4a03-b2be-98d9245e1eff"
      },
      "execution_count": null,
      "outputs": [
        {
          "output_type": "stream",
          "name": "stdout",
          "text": [
            "Index(['id', 'sistolik', 'diastolik', 'jk', 'umur', 'diabetes', 'diagnosis'], dtype='object')\n"
          ]
        }
      ]
    },
    {
      "cell_type": "code",
      "source": [
        "# Menghapus kolom 'id' karena tidak relevan untuk proses klasifikasi\n",
        "df = df.drop('id', axis=1)"
      ],
      "metadata": {
        "id": "qrzc52INzFE5"
      },
      "execution_count": null,
      "outputs": []
    },
    {
      "cell_type": "code",
      "source": [
        "# Memisahkan dataset menjadi fitur (X) dan label (y)\n",
        "X = df.drop('diagnosis', axis=1)\n",
        "y = df['diagnosis']"
      ],
      "metadata": {
        "id": "-qEvOfks0F1T"
      },
      "execution_count": null,
      "outputs": []
    },
    {
      "cell_type": "code",
      "source": [
        "# Membagi dataset menjadi data training (80%) dan data testing (20%)\n",
        "X_train, X_test, y_train, y_test = train_test_split(X, y, test_size=0.1, random_state=42)"
      ],
      "metadata": {
        "id": "izLTm5Cj0SLS"
      },
      "execution_count": null,
      "outputs": []
    },
    {
      "cell_type": "code",
      "source": [
        "print(df.isnull().sum())  # Menunjukkan jumlah nilai kosong di setiap kolom\n",
        "print(df[df.isna().any(axis=1)])  # Menampilkan baris yang mengandung nilai kosong atau tidak valid\n"
      ],
      "metadata": {
        "colab": {
          "base_uri": "https://localhost:8080/"
        },
        "id": "hezIsi_42mgX",
        "outputId": "619a5318-ab13-4a30-a9a7-c7c95ead0e5f"
      },
      "execution_count": null,
      "outputs": [
        {
          "output_type": "stream",
          "name": "stdout",
          "text": [
            "sistolik     0\n",
            "diastolik    0\n",
            "jk           0\n",
            "umur         0\n",
            "diabetes     0\n",
            "diagnosis    0\n",
            "dtype: int64\n",
            "Empty DataFrame\n",
            "Columns: [sistolik, diastolik, jk, umur, diabetes, diagnosis]\n",
            "Index: []\n"
          ]
        }
      ]
    },
    {
      "cell_type": "code",
      "source": [
        "print(df.head())  # Melihat 5 data teratas"
      ],
      "metadata": {
        "colab": {
          "base_uri": "https://localhost:8080/"
        },
        "id": "0S2KlVUUCN-j",
        "outputId": "495588cd-0727-40a2-ed44-71efe7d01443"
      },
      "execution_count": null,
      "outputs": [
        {
          "output_type": "stream",
          "name": "stdout",
          "text": [
            "   sistolik  diastolik  jk  umur  diabetes  diagnosis\n",
            "0       120         80   1    61         0          2\n",
            "1       110         80   1    61         0          2\n",
            "2       170         80   1    74         0          1\n",
            "3       120         80   1    58         0          2\n",
            "4       140         80   1    63         0          1\n"
          ]
        }
      ]
    },
    {
      "cell_type": "code",
      "source": [
        "# Melakukan standarisasi fitur karena SVM sensitif terhadap skala fitur\n",
        "scaler = StandardScaler()\n",
        "X_train = scaler.fit_transform(X_train)\n",
        "X_test = scaler.transform(X_test)"
      ],
      "metadata": {
        "id": "q9tKi6mz0bcm"
      },
      "execution_count": null,
      "outputs": []
    },
    {
      "cell_type": "code",
      "source": [
        "import numpy as np\n",
        "\n",
        "# Mengecek jumlah NaN di setiap kolom pada array numpy\n",
        "print(np.isnan(X_train).sum())  # Menampilkan total jumlah NaN di seluruh array\n",
        "print(np.isnan(X_train).sum(axis=0))  # Menampilkan jumlah NaN di setiap kolom\n"
      ],
      "metadata": {
        "colab": {
          "base_uri": "https://localhost:8080/"
        },
        "id": "5zVT5aQT4LrI",
        "outputId": "4cf798cf-28bb-4ef2-c4a6-de035b7349aa"
      },
      "execution_count": null,
      "outputs": [
        {
          "output_type": "stream",
          "name": "stdout",
          "text": [
            "1\n",
            "[0 0 1 0 0]\n"
          ]
        }
      ]
    },
    {
      "cell_type": "code",
      "source": [
        "from sklearn.impute import SimpleImputer\n",
        "\n",
        "# Membuat objek imputer dengan strategi 'mean' (bisa diganti dengan 'median' atau 'most_frequent')\n",
        "imputer = SimpleImputer(strategy='mean')\n",
        "\n",
        "# Melakukan imputasi pada X_train dan X_test\n",
        "X_train = imputer.fit_transform(X_train)  # Mengisi NaN dengan mean pada data training\n",
        "X_test = imputer.transform(X_test)  # Mengisi NaN dengan mean pada data testing\n"
      ],
      "metadata": {
        "id": "ns_1YKJG4cam"
      },
      "execution_count": null,
      "outputs": []
    },
    {
      "cell_type": "code",
      "source": [
        "import numpy as np\n",
        "print(np.isnan(X_train).sum())  # Menampilkan total jumlah NaN di seluruh array\n",
        "print(np.isnan(X_train).sum(axis=0))  # Menampilkan jumlah NaN di setiap kolom"
      ],
      "metadata": {
        "colab": {
          "base_uri": "https://localhost:8080/"
        },
        "id": "si4dBVP2CUZL",
        "outputId": "955b5d83-f5d0-44f4-91a6-c39ae64b0014"
      },
      "execution_count": null,
      "outputs": [
        {
          "output_type": "stream",
          "name": "stdout",
          "text": [
            "0\n",
            "[0 0 0 0 0]\n"
          ]
        }
      ]
    },
    {
      "cell_type": "markdown",
      "source": [
        "### 4. Pembuatan Model"
      ],
      "metadata": {
        "id": "wQ3cGGJj0oP5"
      }
    },
    {
      "cell_type": "code",
      "source": [
        "# Membuat model K-NN dengan jumlah tetangga default\n",
        "model = KNeighborsClassifier()\n",
        "model.fit(X_train, y_train)\n",
        "\n",
        "# Evaluasi model\n",
        "y_pred = model.predict(X_test)\n",
        "print(\"Confusion Matrix:\\n\", confusion_matrix(y_test, y_pred))\n",
        "print(\"Classification Report:\\n\", classification_report(y_test, y_pred))"
      ],
      "metadata": {
        "id": "WBFemQt80usd",
        "colab": {
          "base_uri": "https://localhost:8080/"
        },
        "outputId": "ea70464e-506b-4304-9b64-855338c83e25"
      },
      "execution_count": null,
      "outputs": [
        {
          "output_type": "stream",
          "name": "stdout",
          "text": [
            "Confusion Matrix:\n",
            " [[2 3]\n",
            " [4 8]]\n",
            "Classification Report:\n",
            "               precision    recall  f1-score   support\n",
            "\n",
            "           1       0.33      0.40      0.36         5\n",
            "           2       0.73      0.67      0.70        12\n",
            "\n",
            "    accuracy                           0.59        17\n",
            "   macro avg       0.53      0.53      0.53        17\n",
            "weighted avg       0.61      0.59      0.60        17\n",
            "\n"
          ]
        }
      ]
    },
    {
      "cell_type": "markdown",
      "source": [
        "### 6. Evaluasi Model"
      ],
      "metadata": {
        "id": "IaySMs_m0xZ5"
      }
    },
    {
      "cell_type": "code",
      "source": [
        "# Menghitung dan menampilkan metrik evaluasi\n",
        "accuracy = accuracy_score(y_test, y_pred)\n",
        "precision = precision_score(y_test, y_pred, average='weighted', zero_division=1)\n",
        "recall = recall_score(y_test, y_pred, average='weighted', zero_division=1)\n",
        "f1 = f1_score(y_test, y_pred, average='weighted', zero_division=1)\n",
        "\n",
        "print(\"Confusion Matrix:\\n\", confusion_matrix(y_test, y_pred))\n",
        "print(\"Classification Report:\\n\", classification_report(y_test, y_pred, zero_division=1))\n",
        "print(f\"Accuracy: {accuracy:.2f}\")\n",
        "print(f\"Precision: {precision:.2f}\")\n",
        "print(f\"Recall: {recall:.2f}\")\n",
        "print(f\"F1-Score: {f1:.2f}\")\n"
      ],
      "metadata": {
        "colab": {
          "base_uri": "https://localhost:8080/"
        },
        "id": "hnD56vd67Yye",
        "outputId": "b8b6e641-3e11-4b8c-9c77-be4929075002"
      },
      "execution_count": null,
      "outputs": [
        {
          "output_type": "stream",
          "name": "stdout",
          "text": [
            "Confusion Matrix:\n",
            " [[2 3]\n",
            " [4 8]]\n",
            "Classification Report:\n",
            "               precision    recall  f1-score   support\n",
            "\n",
            "           1       0.33      0.40      0.36         5\n",
            "           2       0.73      0.67      0.70        12\n",
            "\n",
            "    accuracy                           0.59        17\n",
            "   macro avg       0.53      0.53      0.53        17\n",
            "weighted avg       0.61      0.59      0.60        17\n",
            "\n",
            "Accuracy: 0.59\n",
            "Precision: 0.61\n",
            "Recall: 0.59\n",
            "F1-Score: 0.60\n"
          ]
        }
      ]
    },
    {
      "cell_type": "code",
      "source": [
        "import matplotlib.pyplot as plt\n",
        "import seaborn as sns\n",
        "\n",
        "# Menghitung confusion matrix\n",
        "cm = confusion_matrix(y_test, y_pred)\n",
        "\n",
        "# Visualisasi Confusion Matrix\n",
        "plt.figure(figsize=(8,6))\n",
        "sns.heatmap(cm, annot=True, fmt='d', cmap='Blues', xticklabels=['I10', 'I15'], yticklabels=['I10', 'I15'])\n",
        "plt.xlabel('Predicted')\n",
        "plt.ylabel('Actual')\n",
        "plt.title('Confusion Matrix')\n",
        "plt.show()\n"
      ],
      "metadata": {
        "id": "j2093Dh305QP",
        "colab": {
          "base_uri": "https://localhost:8080/",
          "height": 563
        },
        "outputId": "8590c1ac-c772-4138-8e49-4597e37bbfcc"
      },
      "execution_count": null,
      "outputs": [
        {
          "output_type": "display_data",
          "data": {
            "text/plain": [
              "<Figure size 800x600 with 2 Axes>"
            ],
            "image/png": "[encoded data removed]"
          },
          "metadata": {}
        }
      ]
    }
  ]
}